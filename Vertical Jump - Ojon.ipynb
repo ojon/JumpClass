{
 "metadata": {
  "name": "",
  "signature": "sha256:4489853fec2311a3355f08fdb013d6547941c930d46688502beb6c934fd59377"
 },
 "nbformat": 3,
 "nbformat_minor": 0,
 "worksheets": [
  {
   "cells": [
    {
     "cell_type": "code",
     "collapsed": false,
     "input": [
      "from IPython.core.display import HTML\n",
      "css_file = './example.css'\n",
      "HTML(open(css_file, \"r\").read())"
     ],
     "language": "python",
     "metadata": {
      "internals": {
       "slide_helper": "subslide_end",
       "slide_type": "subslide"
      },
      "slide_helper": "slide_end",
      "slideshow": {
       "slide_type": "slide"
      }
     },
     "outputs": [
      {
       "html": [
        "<link href='http://fonts.googleapis.com/css?family=Alegreya+Sans:100,300,400,500,700,800,900,100italic,300italic,400italic,500italic,700italic,800italic,900italic' rel='stylesheet' type='text/css'>\n",
        "<link href='http://fonts.googleapis.com/css?family=Arvo:400,700,400italic' rel='stylesheet' type='text/css'>\n",
        "<link href='http://fonts.googleapis.com/css?family=PT+Mono' rel='stylesheet' type='text/css'>\n",
        "<link href='http://fonts.googleapis.com/css?family=Shadows+Into+Light' rel='stylesheet' type='text/css'>\n",
        "<link href='http://fonts.googleapis.com/css?family=Philosopher:400,700,400italic,700italic' rel='stylesheet' type='text/css'>\n",
        "\n",
        "<style>\n",
        "\n",
        "@font-face {\n",
        "    font-family: \"Computer Modern\";\n",
        "    src: url('http://mirrors.ctan.org/fonts/cm-unicode/fonts/otf/cmunss.otf');\n",
        "}\n",
        "\n",
        "#notebook_panel { /* main background */\n",
        "    background: #888;\n",
        "    color: #f6f6f6;\n",
        "}\n",
        "\n",
        "div.cell { /* set cell width to about 80 chars */\n",
        "    width: 800px;\n",
        "}\n",
        "\n",
        "div #notebook { /* centre the content */\n",
        "    background: #fff; /* white background for content */\n",
        "    width: 1000px;\n",
        "    margin: auto;\n",
        "    padding-left: 1em;\n",
        "}\n",
        "\n",
        "#notebook li { /* More space between bullet points */\n",
        "margin-top:0.8em;\n",
        "}\n",
        "\n",
        "/* draw border around running cells */\n",
        "div.cell.border-box-sizing.code_cell.running { \n",
        "    border: 3px solid #111;\n",
        "}\n",
        "\n",
        "/* Put a solid color box around each cell and its output, visually linking them together */\n",
        "div.cell.code_cell {\n",
        "    background-color: rgba(171,165,131,1.0); \n",
        "    border-radius: 10px; /* rounded borders */\n",
        "    padding: 1em;\n",
        "    margin-top: 1em;\n",
        "}\n",
        "\n",
        "div.text_cell_render{\n",
        "    font-family: 'Arvo' sans-serif;\n",
        "    line-height: 130%;\n",
        "    font-size: 115%;\n",
        "    width:700px;\n",
        "    margin-left:auto;\n",
        "    margin-right:auto;\n",
        "}\n",
        "\n",
        "\n",
        "/* Formatting for header cells */\n",
        ".text_cell_render h1 {\n",
        "    font-family: 'Philosopher', sans-serif;\n",
        "    font-weight: 400;\n",
        "    font-size: 40pt;\n",
        "    line-height: 100%;\n",
        "    color: rgb(12,85,97);\n",
        "    margin-bottom: 0.1em;\n",
        "    margin-top: 0.1em;\n",
        "    display: block;\n",
        "}\t\n",
        ".text_cell_render h2 {\n",
        "    font-family: 'Philosopher', serif;\n",
        "    font-weight: 700;\n",
        "    font-size: 24pt;\n",
        "    line-height: 100%;\n",
        "    color: rgb(171,165,131);\n",
        "    margin-bottom: 0.1em;\n",
        "    margin-top: 0.1em;\n",
        "    display: block;\n",
        "}\t\n",
        "\n",
        ".text_cell_render h3 {\n",
        "    font-family: 'Philosopher', serif;\n",
        "    margin-top:12px;\n",
        "    margin-bottom: 3px;\n",
        "    font-style: italic;\n",
        "    color: rgb(95,92,72);\n",
        "}\n",
        "\n",
        ".text_cell_render h4 {\n",
        "    font-family: 'Philosopher', serif;\n",
        "}\n",
        "\n",
        ".text_cell_render h5 {\n",
        "    font-family: 'Alegreya Sans', sans-serif;\n",
        "    font-weight: 300;\n",
        "    font-size: 16pt;\n",
        "    color: grey;\n",
        "    font-style: italic;\n",
        "    margin-bottom: .1em;\n",
        "    margin-top: 0.1em;\n",
        "    display: block;\n",
        "}\n",
        "\n",
        ".text_cell_render h6 {\n",
        "    font-family: 'PT Mono', sans-serif;\n",
        "    font-weight: 300;\n",
        "    font-size: 10pt;\n",
        "    color: grey;\n",
        "    margin-bottom: 1px;\n",
        "    margin-top: 1px;\n",
        "}\n",
        "\n",
        ".CodeMirror{\n",
        "        font-family: \"PT Mono\";\n",
        "        font-size: 100%;\n",
        "}\n",
        "\n",
        "</style>\n",
        "\n"
       ],
       "metadata": {},
       "output_type": "pyout",
       "prompt_number": 1,
       "text": [
        "<IPython.core.display.HTML at 0x7fd5b86ebc90>"
       ]
      }
     ],
     "prompt_number": 1
    },
    {
     "cell_type": "markdown",
     "metadata": {
      "internals": {
       "slide_helper": "subslide_end",
       "slide_type": "subslide"
      },
      "slide_helper": "slide_end",
      "slideshow": {
       "slide_type": "slide"
      }
     },
     "source": [
      "#Biomechanical analysis of vertical jump\n",
      "\n",
      "\n",
      "\n",
      "\n",
      "\n",
      "Jo\u00e3o Oda\n",
      "\n",
      "Marcos Duarte"
     ]
    },
    {
     "cell_type": "markdown",
     "metadata": {
      "internals": {
       "slide_helper": "subslide_end",
       "slide_type": "subslide"
      },
      "slide_helper": "subslide_end",
      "slideshow": {
       "slide_type": "slide"
      }
     },
     "source": [
      "# Vertical jump\n",
      "A vertical jump is the act of raising (in the vertical direction) the body center of gravity using your own muscle forces and jumping into the air."
     ]
    },
    {
     "cell_type": "markdown",
     "metadata": {
      "internals": {
       "slide_helper": "subslide_end",
       "slide_type": "subslide"
      },
      "slide_helper": "slide_end",
      "slideshow": {
       "slide_type": "subslide"
      }
     },
     "source": [
      "## Center of gravity\n",
      "\n",
      "Center of gravity or center of mass is a measure of the average location in space of the body considering all body segments, their mass and their position.  \n",
      "\n"
     ]
    },
    {
     "cell_type": "markdown",
     "metadata": {
      "internals": {
       "slide_type": "subslide"
      },
      "slideshow": {
       "slide_type": "slide"
      }
     },
     "source": [
      "From Mechanics, the exact definitions of these quantities are:   \n"
     ]
    },
    {
     "cell_type": "markdown",
     "metadata": {
      "internals": {
       "frag_number": 5
      },
      "slideshow": {
       "slide_type": "fragment"
      }
     },
     "source": [
      "- **Center of mass (CM)**: The center of mass (or barycenter) is the unique point at the center of a distribution of mass in space that has the property that the weighted position vectors relative to this point sum to zero. SI unit: $m$ (vector).   \n"
     ]
    },
    {
     "cell_type": "markdown",
     "metadata": {
      "internals": {
       "frag_helper": "fragment_end",
       "frag_number": 6,
       "slide_helper": "subslide_end"
      },
      "slide_helper": "slide_end",
      "slideshow": {
       "slide_type": "fragment"
      }
     },
     "source": [
      "- **Center of gravity (CG)**: Center of gravity is the *point in an object around which the resultant torque due to gravity forces vanishes*. Near the surface of the earth, where the gravity acts downward as a parallel force field, the center of gravity and the center of mass are the same. SI unit: $m$ (vector).\n"
     ]
    },
    {
     "cell_type": "markdown",
     "metadata": {
      "internals": {
       "frag_helper": "fragment_end",
       "frag_number": 6,
       "slide_type": "subslide"
      },
      "slideshow": {
       "slide_type": "slide"
      }
     },
     "source": [
      "The mathematical definition for the Center of gravity or center of mass of a system with N objects (a system of particles), each with mass $m_i$ and position $r_i$ is: \\begin{array}{l l}\\end{array}\n",
      "\n"
     ]
    },
    {
     "cell_type": "markdown",
     "metadata": {
      "internals": {
       "frag_helper": "fragment_end",
       "frag_number": 8
      },
      "slideshow": {
       "slide_type": "fragment"
      }
     },
     "source": [
      "$$\\mathbf{r}_{cg} = \\frac{1}{Mg}\\sum_{i=1}^N m_{i}g\\:\\mathbf{r}_i = \\mathbf{r}_{cm} \\;\\;\\;\\;\\;\\;\\text{(if g is constant)} $$"
     ]
    },
    {
     "cell_type": "markdown",
     "metadata": {
      "internals": {
       "frag_helper": "fragment_end",
       "frag_number": 9,
       "slide_helper": "subslide_end"
      },
      "slide_helper": "slide_end",
      "slideshow": {
       "slide_type": "fragment"
      }
     },
     "source": [
      "$$  \\mathbf{r}_{cm} = \\frac{1}{M}\\sum_{i=1}^N m_{i}\\:\\mathbf{r}_i \\;\\;\\;\\;\\;\\;\\text{where}\\;\\;\\;\\;\\;\\; M = \\sum_{i=1}^N m_{i} \\\\ $$\n"
     ]
    },
    {
     "cell_type": "markdown",
     "metadata": {
      "internals": {
       "frag_helper": "fragment_end",
       "frag_number": 9,
       "slide_helper": "subslide_end",
       "slide_type": "subslide"
      },
      "slide_helper": "slide_end",
      "slideshow": {
       "slide_type": "slide"
      }
     },
     "source": [
      "This means that how much a person jumped is measured by the **displacement of his or her center of gravity**, and not by how much the feet was raised in space."
     ]
    },
    {
     "cell_type": "markdown",
     "metadata": {
      "internals": {
       "frag_helper": "fragment_end",
       "frag_number": 9,
       "slide_type": "subslide"
      },
      "slideshow": {
       "slide_type": "slide"
      }
     },
     "source": [
      "For instance, the following youtube video entitled \"Highest Vertical jump 62 inches\" (157.5 cm!) shows a great vertical jump, but in fact its height is 'just' half of that:"
     ]
    },
    {
     "cell_type": "code",
     "collapsed": false,
     "input": [
      "from IPython.display import YouTubeVideo\n",
      "YouTubeVideo('NUyql5IFTNY')"
     ],
     "language": "python",
     "metadata": {
      "internals": {
       "frag_helper": "fragment_end",
       "frag_number": 12,
       "slide_helper": "subslide_end"
      },
      "slide_helper": "slide_end",
      "slideshow": {
       "slide_type": "fragment"
      }
     },
     "outputs": [
      {
       "html": [
        "\n",
        "        <iframe\n",
        "            width=\"400\"\n",
        "            height=300\"\n",
        "            src=\"https://www.youtube.com/embed/NUyql5IFTNY\"\n",
        "            frameborder=\"0\"\n",
        "            allowfullscreen\n",
        "        ></iframe>\n",
        "        "
       ],
       "metadata": {},
       "output_type": "pyout",
       "prompt_number": 15,
       "text": [
        "<IPython.lib.display.YouTubeVideo at 0x7f74ba3e8d90>"
       ]
      }
     ],
     "prompt_number": 15
    },
    {
     "cell_type": "markdown",
     "metadata": {
      "internals": {
       "frag_helper": "fragment_end",
       "frag_number": 12,
       "slide_helper": "subslide_end",
       "slide_type": "subslide"
      },
      "slide_helper": "slide_end",
      "slideshow": {
       "slide_type": "slide"
      }
     },
     "source": [
      "##Assumptions\n",
      "\n",
      "In the vertical direction, ignoring the air resistance, the only force that acts on a body **in the air** is the gravity force, $P = -mg$, where $m$ is the mass of the body and $g$ is the acceleration of gravity (about $9.8 m/s^2$)."
     ]
    },
    {
     "cell_type": "markdown",
     "metadata": {
      "internals": {
       "frag_helper": "fragment_end",
       "frag_number": 12,
       "slide_helper": "subslide_end",
       "slide_type": "subslide"
      },
      "slide_helper": "slide_end",
      "slideshow": {
       "slide_type": "slide"
      }
     },
     "source": [
      "## A simple model to vertical jump"
     ]
    },
    {
     "cell_type": "markdown",
     "metadata": {
      "internals": {
       "frag_helper": "fragment_end",
       "frag_number": 12,
       "slide_type": "subslide"
      },
      "slideshow": {
       "slide_type": "slide"
      }
     },
     "source": [
      "In a jump motion various segments of the lower body change to lift the body. Here we consider a very very simple model with only two slenders(**weigthless**) bars of length L:"
     ]
    },
    {
     "cell_type": "markdown",
     "metadata": {
      "internals": {
       "frag_helper": "fragment_end",
       "frag_number": 16,
       "slide_helper": "subslide_end"
      },
      "slide_helper": "slide_end",
      "slideshow": {
       "slide_type": "fragment"
      }
     },
     "source": [
      "<div class='left-align'><figure><img src=\"./figs/VerySimpleJumpModel.png\" width=\"250\" alt=\"Vertical jump\"/><figcaption><i>\n",
      "A mass representing the weight of the upper body is connected to two slender rods. The external forces acting on the athlete are also shown(From Tozeren)</i></figcaption></figure></div><br>"
     ]
    },
    {
     "cell_type": "markdown",
     "metadata": {
      "internals": {
       "frag_helper": "fragment_end",
       "frag_number": 16,
       "slide_type": "subslide"
      },
      "slideshow": {
       "slide_type": "slide"
      }
     },
     "source": [
      "The position of the point mass M at any time is given by:"
     ]
    },
    {
     "cell_type": "markdown",
     "metadata": {
      "internals": {
       "frag_helper": "fragment_end",
       "frag_number": 18
      },
      "slideshow": {
       "slide_type": "fragment"
      }
     },
     "source": [
      "$$ \\vec{r} = 2 L sin \\theta  \\hat{e_2}$$"
     ]
    },
    {
     "cell_type": "markdown",
     "metadata": {
      "internals": {
       "frag_helper": "fragment_end",
       "frag_number": 19
      },
      "slideshow": {
       "slide_type": "fragment"
      }
     },
     "source": [
      "The first and second derivatives gives us the velocity and the aceleration:"
     ]
    },
    {
     "cell_type": "markdown",
     "metadata": {
      "internals": {
       "frag_helper": "fragment_end",
       "frag_number": 20
      },
      "slideshow": {
       "slide_type": "fragment"
      }
     },
     "source": [
      "$$ \\vec{v} = 2L cos \\theta \\frac{d \\theta}{dt} \\hat{e_2}$$"
     ]
    },
    {
     "cell_type": "markdown",
     "metadata": {
      "internals": {
       "frag_helper": "fragment_end",
       "frag_number": 21,
       "slide_helper": "subslide_end"
      },
      "slide_helper": "slide_end",
      "slideshow": {
       "slide_type": "fragment"
      }
     },
     "source": [
      "$$\\vec{a} = [-2L sin \\theta (\\frac{d \\theta}{dt})^2 + 2L cos \\theta \\frac{d^2 \\theta}{d^2t}] \\hat{e_2}$$"
     ]
    },
    {
     "cell_type": "markdown",
     "metadata": {
      "internals": {
       "frag_helper": "fragment_end",
       "frag_number": 21,
       "slide_type": "subslide"
      },
      "slideshow": {
       "slide_type": "slide"
      }
     },
     "source": [
      "Applying Newton's second law to the **CM** we have:\n",
      "\n",
      "$$\\vec{F} - Mg \\hat{e_2} = M [-2L sin \\theta (\\frac{d \\theta}{dt})^2 + 2L cos \\theta \\frac{d^2 \\theta}{d^2t}] \\hat{e_2}$$"
     ]
    },
    {
     "cell_type": "markdown",
     "metadata": {
      "internals": {
       "frag_helper": "fragment_end",
       "frag_number": 23
      },
      "slideshow": {
       "slide_type": "fragment"
      }
     },
     "source": [
      "$$\\vec{F} =   M [g -2L sin \\theta (\\frac{d \\theta}{dt})^2 + 2L cos \\theta \\frac{d^2 \\theta}{d^2t}] \\hat{e_2}$$"
     ]
    },
    {
     "cell_type": "markdown",
     "metadata": {
      "internals": {
       "frag_helper": "fragment_end",
       "frag_number": 24,
       "slide_helper": "subslide_end"
      },
      "slide_helper": "slide_end",
      "slideshow": {
       "slide_type": "fragment"
      }
     },
     "source": [
      "At the instant the jumper leaves the grounds $\\vec{F}$ must be equal to zero, in this situation we have:"
     ]
    },
    {
     "cell_type": "markdown",
     "metadata": {
      "internals": {
       "frag_helper": "fragment_end",
       "frag_number": 24,
       "slide_type": "subslide"
      },
      "slideshow": {
       "slide_type": "slide"
      }
     },
     "source": [
      "$$g = 2L sin \\theta (\\frac{d \\theta}{dt})^2 - 2L cos \\theta \\frac{d^2 \\theta}{d^2t}$$"
     ]
    },
    {
     "cell_type": "markdown",
     "metadata": {
      "internals": {
       "frag_helper": "fragment_end",
       "frag_number": 26
      },
      "slideshow": {
       "slide_type": "fragment"
      }
     },
     "source": [
      "Lets explore the physical implications of this equation. Lets assume that at the instant of take off we have $ \\frac{d^2 \\theta}{d^2 t} = 0$. "
     ]
    },
    {
     "cell_type": "markdown",
     "metadata": {
      "internals": {
       "frag_helper": "fragment_end",
       "frag_number": 27,
       "slide_helper": "subslide_end"
      },
      "slide_helper": "slide_end",
      "slideshow": {
       "slide_type": "fragment"
      }
     },
     "source": [
      "In this case if we dont have enought angular speed so that  $g = 2L sin \\theta (\\frac{d \\theta}{dt})^2$ the ground will still continue to exert some force, in other other words it will be squad, not a jump."
     ]
    },
    {
     "cell_type": "markdown",
     "metadata": {
      "internals": {
       "frag_helper": "fragment_end",
       "frag_number": 27,
       "slide_helper": "subslide_end",
       "slide_type": "subslide"
      },
      "slide_helper": "slide_end",
      "slideshow": {
       "slide_type": "slide"
      }
     },
     "source": [
      "## Four segments model to vertical jump\n",
      "\n",
      "<div class='left-align'><figure><img src=\"./figs/FourSegsJumpModel.png\" width=\"450\" alt=\"Vertical jump\"/><figcaption><i>\n",
      "A jumper is represented by a four-link model (From Tozeren)</i></figcaption></figure></div><br>"
     ]
    },
    {
     "cell_type": "markdown",
     "metadata": {
      "internals": {
       "frag_helper": "fragment_end",
       "frag_number": 27,
       "slide_type": "subslide"
      },
      "slideshow": {
       "slide_type": "slide"
      }
     },
     "source": [
      "## More complex models to vertical jump\n",
      "\n"
     ]
    },
    {
     "cell_type": "code",
     "collapsed": false,
     "input": [
      "from IPython.display import YouTubeVideo\n",
      "YouTubeVideo('nDDIkmUveJM')\n"
     ],
     "language": "python",
     "metadata": {
      "internals": {
       "frag_helper": "fragment_end",
       "frag_number": 30
      },
      "slideshow": {
       "slide_type": "fragment"
      }
     },
     "outputs": [
      {
       "html": [
        "\n",
        "        <iframe\n",
        "            width=\"400\"\n",
        "            height=300\"\n",
        "            src=\"https://www.youtube.com/embed/nDDIkmUveJM\"\n",
        "            frameborder=\"0\"\n",
        "            allowfullscreen\n",
        "        ></iframe>\n",
        "        "
       ],
       "metadata": {},
       "output_type": "pyout",
       "prompt_number": 4,
       "text": [
        "<IPython.lib.display.YouTubeVideo at 0x7f480c56ad90>"
       ]
      }
     ],
     "prompt_number": 4
    },
    {
     "cell_type": "markdown",
     "metadata": {
      "internals": {
       "frag_helper": "fragment_end",
       "frag_number": 31,
       "slide_helper": "subslide_end"
      },
      "slide_helper": "slide_end",
      "slideshow": {
       "slide_type": "fragment"
      }
     },
     "source": [
      "([More Information about this project](http://simtk-confluence.stanford.edu:8080/display/OpenSim/Sky+Higher%3A+Dynamic+Optimization+of+Maximum+Jump+Height)):"
     ]
    },
    {
     "cell_type": "markdown",
     "metadata": {
      "internals": {
       "frag_helper": "fragment_end",
       "frag_number": 31,
       "slide_type": "subslide"
      },
      "slideshow": {
       "slide_type": "slide"
      }
     },
     "source": [
      "## How to measure a verticial jump"
     ]
    },
    {
     "cell_type": "markdown",
     "metadata": {
      "internals": {
       "frag_helper": "fragment_end",
       "frag_number": 33,
       "slide_helper": "subslide_end"
      },
      "slide_helper": "subslide_end",
      "slideshow": {
       "slide_type": "fragment"
      }
     },
     "source": [
      "So, the true measurement of the height of a vertical jump is the displacement of the center of gravity in the vertical direction. The problem is that to measure the center of gravity position is usually too complex because we would have to **estimate the position of each body segment.**   "
     ]
    },
    {
     "cell_type": "markdown",
     "metadata": {
      "internals": {
       "frag_helper": "fragment_end",
       "frag_number": 33,
       "slide_helper": "subslide_end",
       "slide_type": "subslide"
      },
      "slide_helper": "slide_end",
      "slideshow": {
       "slide_type": "subslide"
      }
     },
     "source": [
      "Instead, there are alternative methods with varying degrees of accuracy for measuring the height of vertical jump ([see here for a list](http://www.topendsports.com/testing/equipment-verticaljump.htm)):   "
     ]
    },
    {
     "cell_type": "markdown",
     "metadata": {
      "internals": {
       "frag_helper": "fragment_end",
       "frag_number": 33,
       "slide_type": "subslide"
      },
      "slideshow": {
       "slide_type": "slide"
      }
     },
     "source": [
      "- [**Sargent Jump Test**](http://www.brianmac.co.uk/sgtjump.htm). How high you can reach an object.   "
     ]
    },
    {
     "cell_type": "markdown",
     "metadata": {
      "internals": {
       "frag_helper": "fragment_end",
       "frag_number": 36,
       "slide_helper": "subslide_end"
      },
      "slide_helper": "slide_end",
      "slideshow": {
       "slide_type": "fragment"
      }
     },
     "source": [
      "- **Flight time measurement**. From Newton's laws of motion, the height of a jump is related to the flight time under controlled conditions. One can measure the flight time using a [contact mat](http://www.probotics.org/JustJump/verticalJump.htm), light sensor, [accelerometer](http://www.jssm.org/vol11/n1/17/v11n1-17pdf.pdf), video (the number of frames the subjects is in the air), attaching a cable to the subject's waist and measuring the displacement of this cable, etc. "
     ]
    },
    {
     "cell_type": "markdown",
     "metadata": {
      "internals": {
       "frag_helper": "fragment_end",
       "frag_number": 36,
       "slide_helper": "subslide_end",
       "slide_type": "subslide"
      },
      "slide_helper": "slide_end",
      "slideshow": {
       "slide_type": "slide"
      }
     },
     "source": [
      "- **Force plate measurements**. A device called force plate which measures the forces applied on the ground as a function of time can be used to measure the flight time or using the vertical force data to find the displacement of the center of gravity using Newton's laws of motion.  "
     ]
    },
    {
     "cell_type": "markdown",
     "metadata": {
      "internals": {
       "frag_helper": "fragment_end",
       "frag_number": 36,
       "slide_type": "subslide"
      },
      "slideshow": {
       "slide_type": "slide"
      }
     },
     "source": [
      "## Force plate measurement"
     ]
    },
    {
     "cell_type": "code",
     "collapsed": false,
     "input": [
      "from IPython.display import YouTubeVideo\n",
      "YouTubeVideo('VsVkaIaoU38')"
     ],
     "language": "python",
     "metadata": {
      "internals": {
       "frag_helper": "fragment_end",
       "frag_number": 39,
       "slide_helper": "subslide_end"
      },
      "slide_helper": "subslide_end",
      "slideshow": {
       "slide_type": "fragment"
      }
     },
     "outputs": [
      {
       "html": [
        "\n",
        "        <iframe\n",
        "            width=\"400\"\n",
        "            height=300\"\n",
        "            src=\"https://www.youtube.com/embed/VsVkaIaoU38\"\n",
        "            frameborder=\"0\"\n",
        "            allowfullscreen\n",
        "        ></iframe>\n",
        "        "
       ],
       "metadata": {},
       "output_type": "pyout",
       "prompt_number": 3,
       "text": [
        "<IPython.lib.display.YouTubeVideo at 0x7f6d8025bc90>"
       ]
      }
     ],
     "prompt_number": 3
    },
    {
     "cell_type": "markdown",
     "metadata": {
      "internals": {
       "frag_helper": "fragment_end",
       "frag_number": 39,
       "slide_helper": "subslide_end",
       "slide_type": "subslide"
      },
      "slide_helper": "subslide_end",
      "slideshow": {
       "slide_type": "subslide"
      }
     },
     "source": [
      "A force plate of force platform is an electro-mechanical instrument to measure the forces applied on it. A force plate is like a sophisticated, and very expensive, balance scale that can measure the instantaneous forces applied (as a function of time) and depending on the force plate, can also measure the point of application of the resultant vertical force and the horizontal force components.   "
     ]
    },
    {
     "cell_type": "markdown",
     "metadata": {
      "internals": {
       "frag_helper": "fragment_end",
       "frag_number": 39,
       "slide_helper": "subslide_end",
       "slide_type": "subslide"
      },
      "slide_helper": "slide_end",
      "slideshow": {
       "slide_type": "subslide"
      }
     },
     "source": [
      "Usually the force plate is placed on the floor and one is interested not in the force applied on the force plate, but its reaction, the force that force plate applied on the subject, which according to Newton's third law of motion, has the same magnitude and line of action but opposite direction. Because of that, usually the forces measured by the force plate are referred as ground reaction forces."
     ]
    },
    {
     "cell_type": "markdown",
     "metadata": {
      "internals": {
       "frag_helper": "fragment_end",
       "frag_number": 39,
       "slide_helper": "subslide_end",
       "slide_type": "subslide"
      },
      "slide_helper": "slide_end",
      "slideshow": {
       "slide_type": "slide"
      }
     },
     "source": [
      "## Conservation of Energy\n",
      "\n",
      "Lets use the principle of conservation of energy to show the relation between the **flight height and takeoff velocity**. We consider that the effect of air resistence is negligible and weight is the only force acting on the body while its is in the air. The changes in **kinect energy** and **gravitacional potential** are described by:"
     ]
    },
    {
     "cell_type": "markdown",
     "metadata": {
      "internals": {
       "frag_helper": "fragment_end",
       "frag_number": 39,
       "slide_type": "subslide"
      },
      "slideshow": {
       "slide_type": "slide"
      }
     },
     "source": [
      "$$\\frac{m v_{to}^2}{2} + mgh_{to} =  \\frac{m v_{peak}^2}{2} + mgh_{peak}$$"
     ]
    },
    {
     "cell_type": "markdown",
     "metadata": {
      "internals": {
       "frag_helper": "fragment_end",
       "frag_number": 44,
       "slide_helper": "subslide_end"
      },
      "slide_helper": "slide_end",
      "slideshow": {
       "slide_type": "fragment"
      }
     },
     "source": [
      "Where $v_{to}$ is the velocity of take off and $h_{to}$ is the initial height of the **CM**.\n",
      "\n",
      "When the jumper reachs the maximum height, the velocity of its **CM** $ v_{peak} = 0$"
     ]
    },
    {
     "cell_type": "markdown",
     "metadata": {
      "internals": {
       "frag_helper": "fragment_end",
       "frag_number": 44,
       "slide_type": "subslide"
      },
      "slideshow": {
       "slide_type": "slide"
      }
     },
     "source": [
      "$$ h_{flight} = h_{peak} - h_{to} = \\frac{v_{to}^2}{2g} $$"
     ]
    },
    {
     "cell_type": "markdown",
     "metadata": {
      "internals": {
       "frag_helper": "fragment_end",
       "frag_number": 46,
       "slide_helper": "subslide_end"
      },
      "slide_helper": "slide_end",
      "slideshow": {
       "slide_type": "fragment"
      }
     },
     "source": [
      "where $ v_{to}$ is the vertical takeoff velocity"
     ]
    },
    {
     "cell_type": "markdown",
     "metadata": {
      "internals": {
       "frag_helper": "fragment_end",
       "frag_number": 46,
       "slide_type": "subslide"
      },
      "slideshow": {
       "slide_type": "slide"
      }
     },
     "source": [
      "### Jump height from the flight time measurement\n",
      "\n",
      "It can be shown that the height of the center of gravity of a body in the air  at a certain time is:\n",
      "\n",
      "$$ h(t) = h_{0} + v_{to}t - \\frac{gt^2}{2} $$"
     ]
    },
    {
     "cell_type": "markdown",
     "metadata": {
      "internals": {
       "frag_helper": "fragment_end",
       "frag_number": 48,
       "slide_helper": "subslide_end"
      },
      "slide_helper": "slide_end",
      "slideshow": {
       "slide_type": "fragment"
      }
     },
     "source": [
      "Let's consider a frame of reference with the orign at the initial height of the CM, so $h_{0} = 0$ and that at the instant of take off we have $t = 0$, with a simple algebric manipulation we have:"
     ]
    },
    {
     "cell_type": "markdown",
     "metadata": {
      "internals": {
       "frag_helper": "fragment_end",
       "frag_number": 48,
       "slide_type": "subslide"
      },
      "slideshow": {
       "slide_type": "slide"
      }
     },
     "source": [
      "$$ v_{to} = \\frac{gt_{flight}}{2} $$"
     ]
    },
    {
     "cell_type": "markdown",
     "metadata": {
      "internals": {
       "frag_helper": "fragment_end",
       "frag_number": 50,
       "slide_helper": "subslide_end"
      },
      "slide_helper": "slide_end",
      "slideshow": {
       "slide_type": "fragment"
      }
     },
     "source": [
      "Where $t_{flight}$ is the time of flight from the instant of takeoff to the instant of landing, we assume the height of the jumper\u015b **CM** at the instant of landing is the same as at the instant of takeoff, then $v_f = -v_i$ "
     ]
    },
    {
     "cell_type": "markdown",
     "metadata": {
      "internals": {
       "frag_helper": "fragment_end",
       "frag_number": 50,
       "slide_type": "subslide"
      },
      "slideshow": {
       "slide_type": "slide"
      }
     },
     "source": [
      "Then, the total vertical displacement $(h_{max}-h_0)$ the body reaches is related to the time of flight by:"
     ]
    },
    {
     "cell_type": "markdown",
     "metadata": {
      "internals": {
       "frag_helper": "fragment_end",
       "frag_number": 52,
       "slide_helper": "subslide_end"
      },
      "slide_helper": "slide_end",
      "slideshow": {
       "slide_type": "fragment"
      }
     },
     "source": [
      "$$ h_{flight} = \\frac{gt_{\\text{flight}}^2}{8} $$"
     ]
    },
    {
     "cell_type": "markdown",
     "metadata": {
      "internals": {
       "frag_helper": "fragment_end",
       "frag_number": 52,
       "slide_helper": "subslide_end",
       "slide_type": "subslide"
      },
      "slide_helper": "slide_end",
      "slideshow": {
       "slide_type": "slide"
      }
     },
     "source": [
      "This is the most common principle used to measure the height of a vertical jump and to build an instrument such as a contact mat to measure that is very simple and cheap. You only have to be careful because this principle **can be cheated if the subject bends his legs at the landing phase** (increasing the flight time without increasing the height of the center of gravity).   \n",
      "Now, there are even shoes that measure that:"
     ]
    },
    {
     "cell_type": "code",
     "collapsed": false,
     "input": [
      "YouTubeVideo('SCJNPd-HYiM')"
     ],
     "language": "python",
     "metadata": {
      "internals": {
       "frag_helper": "fragment_end",
       "frag_number": 52,
       "slide_helper": "subslide_end",
       "slide_type": "subslide"
      },
      "slide_helper": "slide_end",
      "slideshow": {
       "slide_type": "slide"
      }
     },
     "outputs": [
      {
       "html": [
        "\n",
        "        <iframe\n",
        "            width=\"400\"\n",
        "            height=300\"\n",
        "            src=\"https://www.youtube.com/embed/SCJNPd-HYiM\"\n",
        "            frameborder=\"0\"\n",
        "            allowfullscreen\n",
        "        ></iframe>\n",
        "        "
       ],
       "metadata": {},
       "output_type": "pyout",
       "prompt_number": 16,
       "text": [
        "<IPython.lib.display.YouTubeVideo at 0x7f74ba3ae210>"
       ]
      }
     ],
     "prompt_number": 16
    },
    {
     "cell_type": "markdown",
     "metadata": {
      "internals": {
       "frag_helper": "fragment_end",
       "frag_number": 52,
       "slide_helper": "subslide_end",
       "slide_type": "subslide"
      },
      "slide_helper": "slide_end",
      "slideshow": {
       "slide_type": "slide"
      }
     },
     "source": [
      "## Impulse-momentum method"
     ]
    },
    {
     "cell_type": "markdown",
     "metadata": {
      "internals": {
       "frag_helper": "fragment_end",
       "frag_number": 52,
       "slide_helper": "subslide_end",
       "slide_type": "subslide"
      },
      "slide_helper": "slide_end",
      "slideshow": {
       "slide_type": "slide"
      }
     },
     "source": [
      "### Linear momentum\n",
      "\n",
      "Linear momentum, or quantity of linear motion, is the product between mass and velocity:\n",
      "\n",
      "$$ \\vec{p} = m\\vec{v} $$"
     ]
    },
    {
     "cell_type": "markdown",
     "metadata": {
      "internals": {
       "frag_helper": "fragment_end",
       "frag_number": 52,
       "slide_helper": "subslide_end",
       "slide_type": "subslide"
      },
      "slide_helper": "slide_end",
      "slideshow": {
       "slide_type": "slide"
      }
     },
     "source": [
      "### Impulse\n",
      "\n",
      "The impulse $\\vec{J}$ of a froce over time interval $\\Delta t = t_f - t_i$ is:\n",
      "\n",
      "$$ \\vec{J} = \\int_{t_i}^{t_f} \\vec{F}(t)dt $$"
     ]
    },
    {
     "cell_type": "markdown",
     "metadata": {
      "internals": {
       "frag_helper": "fragment_end",
       "frag_number": 52,
       "slide_helper": "subslide_end",
       "slide_type": "subslide"
      },
      "slide_helper": "subslide_end",
      "slideshow": {
       "slide_type": "slide"
      }
     },
     "source": [
      "The entity $\\vec{J}$ is a vector and it\u015b magnitude has units of $N \\dot s$. **If the force does not change direction during the time period $\\Delta t$, the magnitude of the impulse is equal to the area under the the force-versus-time curve.**"
     ]
    },
    {
     "cell_type": "markdown",
     "metadata": {
      "internals": {
       "frag_helper": "fragment_end",
       "frag_number": 52,
       "slide_helper": "subslide_end",
       "slide_type": "subslide"
      },
      "slide_helper": "subslide_end",
      "slideshow": {
       "slide_type": "subslide"
      }
     },
     "source": [
      "The concept of impulse due to a force that varies with time is often applied in biomechanics because it is common to measure forces (for example, with force plates) during human movement. "
     ]
    },
    {
     "cell_type": "code",
     "collapsed": false,
     "input": [
      "# Import the necessary libraries\n",
      "from __future__ import division, print_function\n",
      "import numpy as np\n",
      "import matplotlib.pyplot as plt\n",
      "from scipy.integrate import trapz\n",
      "%matplotlib inline"
     ],
     "language": "python",
     "metadata": {
      "internals": {
       "frag_helper": "fragment_end",
       "frag_number": 52,
       "slide_helper": "subslide_end",
       "slide_type": "subslide"
      },
      "slide_helper": "subslide_end",
      "slideshow": {
       "slide_type": "subslide"
      }
     },
     "outputs": [],
     "prompt_number": 1
    },
    {
     "cell_type": "code",
     "collapsed": false,
     "input": [
      "# simulate some data:\n",
      "t = np.arange(0, 1.01, 0.01)\n",
      "f = 1000*(-t**3+t**2)\n",
      "# plot:\n",
      "hfig, hax = plt.subplots(1, 1, figsize=(10,6))\n",
      "hax.plot(t, f, linewidth=3)\n",
      "hax.set_xlim(-.1, 1.1)\n",
      "hax.grid()\n",
      "hax.set_ylabel('Force [N]')\n",
      "hax.set_xlabel('Time [s]')\n",
      "plt.fill(t, f, 'b', alpha=0.3)\n",
      "# calculate area (impulse) with the trapz numerical integration method:\n",
      "imp = trapz(f, t)\n",
      "# plot a rectangle for the mean impulse value:\n",
      "plt.fill(np.array([t[0], t[0], t[-1], t[-1]]), np.array([0, imp, imp, 0]/(t[-1]-t[0])), 'r', alpha=0.3)\n",
      "s = '$i=F\\Delta t = %.1f Ns$' %imp\n",
      "plt.text(.4, 40, s, fontsize=18, bbox=dict(facecolor='white', edgecolor='white'))\n",
      "plt.show()"
     ],
     "language": "python",
     "metadata": {
      "internals": {
       "frag_helper": "fragment_end",
       "frag_number": 52,
       "slide_helper": "subslide_end",
       "slide_type": "subslide"
      },
      "slide_helper": "slide_end",
      "slideshow": {
       "slide_type": "subslide"
      }
     },
     "outputs": [
      {
       "metadata": {},
       "output_type": "display_data",
       "png": "[encoded data removed]",
       "text": [
        "<matplotlib.figure.Figure at 0x7f7103f09510>"
       ]
      }
     ],
     "prompt_number": 4
    },
    {
     "cell_type": "code",
     "collapsed": false,
     "input": [
      "hfig"
     ],
     "language": "python",
     "metadata": {
      "internals": {
       "frag_helper": "fragment_end",
       "frag_number": 52,
       "slide_type": "subslide"
      },
      "slideshow": {
       "slide_type": "slide"
      }
     },
     "outputs": [
      {
       "metadata": {},
       "output_type": "pyout",
       "png": "[encoded data removed]",
       "prompt_number": 3,
       "text": [
        "<matplotlib.figure.Figure at 0x7f7104326f90>"
       ]
      }
     ],
     "prompt_number": 3
    },
    {
     "cell_type": "markdown",
     "metadata": {
      "internals": {
       "frag_helper": "fragment_end",
       "frag_number": 63,
       "slide_helper": "subslide_end"
      },
      "slide_helper": "slide_end",
      "slideshow": {
       "slide_type": "fragment"
      }
     },
     "source": [
      "The plot above shows the area (impulse) of the force-versus-time curve (blue) and the equivalent rectangle area for the mean force (red) with the same impluse value."
     ]
    },
    {
     "cell_type": "markdown",
     "metadata": {
      "internals": {
       "frag_helper": "fragment_end",
       "frag_number": 63,
       "slide_type": "subslide"
      },
      "slideshow": {
       "slide_type": "slide"
      }
     },
     "source": [
      "#### Principle of Impulse Momentum\n",
      "\n",
      "From the Newton's second law, we show the relation between Impulse and Momentum:"
     ]
    },
    {
     "cell_type": "markdown",
     "metadata": {
      "internals": {
       "frag_helper": "fragment_end",
       "frag_number": 65
      },
      "slideshow": {
       "slide_type": "fragment"
      }
     },
     "source": [
      "$$ \\frac{d \\vec{P}}{dt} = \\Sigma \\vec{F} $$"
     ]
    },
    {
     "cell_type": "markdown",
     "metadata": {
      "internals": {
       "frag_helper": "fragment_end",
       "frag_number": 66
      },
      "slideshow": {
       "slide_type": "fragment"
      }
     },
     "source": [
      "$$   \\int_{t_i}^{t_{f}} \\frac{d \\vec{P}}{dt} dt =   \\int_{t_i}^{t_{f}} \\Sigma \\vec{F}  dt $$"
     ]
    },
    {
     "cell_type": "markdown",
     "metadata": {
      "internals": {
       "frag_helper": "fragment_end",
       "frag_number": 67
      },
      "slideshow": {
       "slide_type": "fragment"
      }
     },
     "source": [
      "$$  \\vec{P_f} - \\vec{P_i} = \\Sigma \\int_{t_i}^{t_{f}} \\vec{F}dt $$"
     ]
    },
    {
     "cell_type": "markdown",
     "metadata": {
      "internals": {
       "frag_helper": "fragment_end",
       "frag_number": 68,
       "slide_helper": "subslide_end"
      },
      "slide_helper": "slide_end",
      "slideshow": {
       "slide_type": "fragment"
      }
     },
     "source": [
      "$$  \\vec{P_f} - \\vec{P_i} = \\Sigma \\vec{J} $$"
     ]
    },
    {
     "cell_type": "markdown",
     "metadata": {
      "internals": {
       "frag_helper": "fragment_end",
       "frag_number": 68,
       "slide_type": "subslide"
      },
      "slideshow": {
       "slide_type": "slide"
      }
     },
     "source": [
      "For a body that the mass does not change:\n",
      "\n",
      "$$  m \\vec{v_f} - m \\vec{v_i} = \\Sigma \\vec{J} $$"
     ]
    },
    {
     "cell_type": "markdown",
     "metadata": {
      "internals": {
       "frag_helper": "fragment_end",
       "frag_number": 70,
       "slide_helper": "subslide_end"
      },
      "slide_helper": "slide_end",
      "slideshow": {
       "slide_type": "fragment"
      }
     },
     "source": [
      "$$  m (\\vec{v_f} - \\vec{v_i}) = \\Sigma \\vec{J} $$"
     ]
    },
    {
     "cell_type": "markdown",
     "metadata": {
      "internals": {
       "frag_helper": "fragment_end",
       "frag_number": 70,
       "slide_helper": "subslide_end",
       "slide_type": "subslide"
      },
      "slide_helper": "slide_end",
      "slideshow": {
       "slide_type": "slide"
      }
     },
     "source": [
      "#### Vertical jump height from the impulse measurement\n",
      "\n",
      "From now on we are going to deal only with the vertical component of ground reaction force(\n",
      "$F_z$) and weight force($\\vec{P}$), a scalar formulation of the previous results will be enought.  "
     ]
    },
    {
     "cell_type": "markdown",
     "metadata": {
      "internals": {
       "frag_helper": "fragment_end",
       "frag_number": 70,
       "slide_helper": "subslide_end",
       "slide_type": "subslide"
      },
      "slide_helper": "slide_end",
      "slideshow": {
       "slide_type": "slide"
      }
     },
     "source": [
      "Applying the principle of Impulse Momentum to the ground contact phase of the jump:\n",
      "\n",
      "$$ \\int_{t_i}^{t_{to}} ( F_z - mg) dt = m  v_{to}$$\n",
      "\n",
      "where $t_i$ is a instant where $v_i = 0$"
     ]
    },
    {
     "cell_type": "markdown",
     "metadata": {
      "internals": {
       "frag_helper": "fragment_end",
       "frag_number": 70,
       "slide_type": "subslide"
      },
      "slideshow": {
       "slide_type": "slide"
      }
     },
     "source": [
      "The impulse due to the resultant force can be considered as two impulses:\n",
      "\n",
      "$$ \\int_{t_i}^{t_{to}} F_z dt - \\int_{t_i}^{t_{to}} mg dt = $$"
     ]
    },
    {
     "cell_type": "markdown",
     "metadata": {
      "internals": {
       "frag_helper": "fragment_end",
       "frag_number": 74
      },
      "slideshow": {
       "slide_type": "fragment"
      }
     },
     "source": [
      "$$ J_z - J_{BW} = m v_{to}$$"
     ]
    },
    {
     "cell_type": "markdown",
     "metadata": {
      "internals": {
       "frag_helper": "fragment_end",
       "frag_number": 75
      },
      "slideshow": {
       "slide_type": "fragment"
      }
     },
     "source": [
      "$$ v_{to} = \\frac{J_z - J_{BW}}{m}$$"
     ]
    },
    {
     "cell_type": "markdown",
     "metadata": {
      "internals": {
       "frag_helper": "fragment_end",
       "frag_number": 76,
       "slide_helper": "subslide_end"
      },
      "slide_helper": "subslide_end",
      "slideshow": {
       "slide_type": "fragment"
      }
     },
     "source": [
      "Where $J_z$ is the impulse due to the z component of the ground reaction force and $J_{BW}$ is the impulse due to the body weight."
     ]
    },
    {
     "cell_type": "markdown",
     "metadata": {
      "internals": {
       "frag_helper": "fragment_end",
       "frag_number": 76,
       "slide_helper": "subslide_end",
       "slide_type": "subslide"
      },
      "slide_helper": "slide_end",
      "slideshow": {
       "slide_type": "subslide"
      }
     },
     "source": [
      "Remember that this final velocity (at the moment of takeoff) is the initial velocity of the aerial phase of the jump."
     ]
    },
    {
     "cell_type": "markdown",
     "metadata": {
      "internals": {
       "frag_helper": "fragment_end",
       "frag_number": 76,
       "slide_helper": "subslide_end",
       "slide_type": "subslide"
      },
      "slide_helper": "subslide_end",
      "slideshow": {
       "slide_type": "slide"
      }
     },
     "source": [
      "Then we can use our previous result, to calculate the flight height:\n",
      "\n",
      "$$ h_{flight} = \\frac{v_{to}^2}{2g} $$"
     ]
    },
    {
     "cell_type": "markdown",
     "metadata": {
      "internals": {
       "frag_helper": "fragment_end",
       "frag_number": 76,
       "slide_helper": "subslide_end",
       "slide_type": "subslide"
      },
      "slide_helper": "slide_end",
      "slideshow": {
       "slide_type": "subslide"
      }
     },
     "source": [
      "The force plate can also be used to calculate more stuff than the height of the vertical jump to characterize the subject's performance (see Dowling and Vamos 1993) for a list of such variables).   \n",
      "For example, a useful measure is the mechanical power the subject produced in the jump. With the use of a force plate and some extra calculations, one can measure mechanical power and all the variables listed in Dowling and Vamos (1993).   "
     ]
    },
    {
     "cell_type": "markdown",
     "metadata": {
      "internals": {
       "frag_helper": "fragment_end",
       "frag_number": 76,
       "slide_helper": "subslide_end",
       "slide_type": "subslide"
      },
      "slide_helper": "slide_end",
      "slideshow": {
       "slide_type": "slide"
      }
     },
     "source": [
      "###Work-energy method\n",
      "\n",
      "##### Work-energy principle\n",
      "\n",
      "The integral of a force over displacement produces a change in the kinetic enery of a body.\n",
      "\n",
      "$$ W = \\int \\vec{F} \\cdot d\\vec{r} = \\Delta KE $$"
     ]
    },
    {
     "cell_type": "markdown",
     "metadata": {
      "internals": {
       "frag_helper": "fragment_end",
       "frag_number": 76,
       "slide_type": "subslide"
      },
      "slideshow": {
       "slide_type": "slide"
      }
     },
     "source": [
      "## Vertical jump height from work energy principle\n",
      "\n",
      "Applying the work-energy principle to the ground contact phase of the jump:\n",
      "\n",
      " $$ \\int_{y_i}^{y_{to}} ( F_{z} - mg) dy = \\frac{m v_{to}^2}{2}$$\n",
      " "
     ]
    },
    {
     "cell_type": "markdown",
     "metadata": {
      "internals": {
       "frag_helper": "fragment_end",
       "frag_number": 82,
       "slide_helper": "subslide_end"
      },
      "slide_helper": "slide_end",
      "slideshow": {
       "slide_type": "fragment"
      }
     },
     "source": [
      "Where $y_i$ is a height where $v_i = 0$\n",
      " \n",
      " $$ W_Z - W_{BW} = \\frac{m v_{to}^2}{2}$$"
     ]
    },
    {
     "cell_type": "markdown",
     "metadata": {
      "internals": {
       "frag_helper": "fragment_end",
       "frag_number": 82,
       "slide_helper": "subslide_end",
       "slide_type": "subslide"
      },
      "slide_helper": "slide_end",
      "slideshow": {
       "slide_type": "slide"
      }
     },
     "source": [
      "<div class='center-align'><figure><img src=\"./figs/Fz_height.jpeg\" width=\"550\" alt=\"Vertical jump\"/><figcaption><i>Work done by the ground reaction force, and by the jumper\u015b body weight, for countermovement jump (from Linthorne, 2001).</i></figcaption></figure></div><br> "
     ]
    },
    {
     "cell_type": "markdown",
     "metadata": {
      "internals": {
       "frag_helper": "fragment_end",
       "frag_number": 82,
       "slide_helper": "subslide_end",
       "slide_type": "subslide"
      },
      "slide_helper": "slide_end",
      "slideshow": {
       "slide_type": "slide"
      }
     },
     "source": [
      "Once we have $v_{to}$, we can use our previous result, to calculate the flight height:\n",
      "\n",
      "$$ h_{flight} = \\frac{v_{to}^2}{2g} $$\n",
      " "
     ]
    },
    {
     "cell_type": "markdown",
     "metadata": {
      "internals": {
       "frag_helper": "fragment_end",
       "frag_number": 82,
       "slide_type": "subslide"
      },
      "slideshow": {
       "slide_type": "slide"
      }
     },
     "source": [
      "## Kinetic analysis of a vertical jump\n",
      "\n",
      "Let's work with a data set from an analysis of vertical jumps performed by a person."
     ]
    },
    {
     "cell_type": "code",
     "collapsed": false,
     "input": [
      "# Import the necessary libraries\n",
      "import numpy as np\n",
      "import matplotlib.pyplot as plt\n",
      "from scipy.integrate import cumtrapz\n",
      "from scipy.integrate import trapz\n",
      "%matplotlib inline"
     ],
     "language": "python",
     "metadata": {
      "internals": {
       "frag_helper": "fragment_end",
       "frag_number": 82
      },
      "slideshow": {
       "slide_type": "-"
      }
     },
     "outputs": [],
     "prompt_number": 9
    },
    {
     "cell_type": "code",
     "collapsed": false,
     "input": [
      "#read data from old lab\n",
      "freq = 250.0\n",
      "fligth_threshold = 5;\n",
      "g= 9.8;\n",
      "\n",
      "data = np.loadtxt('./data/Trial01.txt', skiprows=2)\n",
      "Fz = data[:,9]\n",
      "time = np.arange(0, len(Fz)/freq, 1/freq)\n",
      "\n",
      "# we shift the time so the take off is at instant t=0\n",
      "flightIndex = np.where(Fz <= fligth_threshold)\n",
      "takeOffIndex = flightIndex[0][0]\n",
      "\n",
      "landingIndex = flightIndex[0][-1];\n",
      "time = time - time[takeOffIndex];\n",
      "\n",
      "# we use the median of some samples while the individual \n",
      "# is not moving over the force plate to estimate the mass\n",
      "mass = np.median(Fz[10:50]) / g\n",
      "\n",
      "Acel = (Fz - mass * g) / mass\n",
      "\n",
      "#using numerical integration we find the velocity and the height\n",
      "Vel = cumtrapz(Acel, time)\n",
      "H = cumtrapz(Vel, time[0:-1])\n",
      "\n",
      "# plot data\n",
      "hfig, hax = plt.subplots(5, 1, figsize=(12,30))\n",
      "hax[0].plot(time, Fz, 'b', linewidth='2')\n",
      "hax[0].set_xlabel('Time [s]')\n",
      "hax[0].set_ylabel('GRF Fz [N]')\n",
      "hax[0].grid()\n",
      "\n",
      "hax[1].plot(time, Acel, 'b', linewidth='2')\n",
      "hax[1].set_xlabel('Time [s]')\n",
      "hax[1].set_ylabel('Aceleration [$m/s^2$]')\n",
      "hax[1].grid()\n",
      "\n",
      "hax[2].plot(time[0:-1], Vel, 'b', linewidth='2')\n",
      "hax[2].set_xlabel('Time [s]')\n",
      "hax[2].set_ylabel('Velocity [$m/s$]')\n",
      "hax[2].grid()\n",
      "\n",
      "hax[3].plot(time[0:-2], H, 'b', linewidth='2')\n",
      "hax[3].set_xlabel('Time [s]')\n",
      "hax[3].set_ylabel('Vertical Height [$m$]')\n",
      "hax[3].grid()\n",
      "\n",
      "hax[4].plot( H[0:takeOffIndex], Fz[0:takeOffIndex], 'b', linewidth='2')\n",
      "hax[4].set_xlabel('Vertical Height [$m$]')\n",
      "hax[4].set_ylabel('GRF Fz [N]')\n",
      "hax[4].grid()\n",
      "\n",
      "plt.show()"
     ],
     "language": "python",
     "metadata": {
      "internals": {
       "frag_helper": "fragment_end",
       "frag_number": 82,
       "slide_helper": "subslide_end"
      },
      "slide_helper": "subslide_end",
      "slideshow": {
       "slide_type": "-"
      }
     },
     "outputs": [
      {
       "metadata": {},
       "output_type": "display_data",
       "png": "[encoded data removed]",
       "text": [
        "<matplotlib.figure.Figure at 0x7f47e7d3cc50>"
       ]
      }
     ],
     "prompt_number": 10
    },
    {
     "cell_type": "code",
     "collapsed": false,
     "input": [
      "# take off velocity and flight height using  flight time\n",
      "t_flight = time[landingIndex]\n",
      "vto_tflight = g * t_flight / 2.0\n",
      "h_tflight = g * t_flight ** 2 / 8.0\n",
      "\n",
      "# take off velocity and flight height using  impulse momemtum\n",
      "vto_impulse = Vel[takeOffIndex]\n",
      "h_impulse = (Vel[takeOffIndex] ** 2) / (2 *g)\n",
      "\n",
      "# take off velocity and flight height using work-energy\n",
      "hMinIndex = np.argmin(H[0:takeOffIndex])\n",
      "H_df = H[hMinIndex:takeOffIndex]\n",
      "F_df = Fz[hMinIndex:takeOffIndex]\n",
      "WFz = trapz(F_df, H_df)\n",
      "WBw = (H_df[-1] - H_df[0]) * mass * g\n",
      "Wtotal = WFz - WBw\n",
      "vto_wrkEnergy = np.sqrt((Wtotal * 2.0)/mass)\n",
      "h_wrkEnergy = (vto_wrkEnergy ** 2) / (2 *g)"
     ],
     "language": "python",
     "metadata": {
      "internals": {
       "frag_helper": "fragment_end",
       "frag_number": 82,
       "slide_type": "subslide"
      },
      "slideshow": {
       "slide_type": "subslide"
      }
     },
     "outputs": [],
     "prompt_number": 18
    },
    {
     "cell_type": "code",
     "collapsed": false,
     "input": [
      "hfig"
     ],
     "language": "python",
     "metadata": {
      "internals": {
       "frag_helper": "fragment_end",
       "frag_number": 82,
       "slide_helper": "subslide_end"
      },
      "slide_helper": "slide_end",
      "slideshow": {
       "slide_type": "-"
      }
     },
     "outputs": [
      {
       "metadata": {},
       "output_type": "pyout",
       "png": "[encoded data removed]",
       "prompt_number": 12,
       "text": [
        "<matplotlib.figure.Figure at 0x7f47e7d3cc50>"
       ]
      }
     ],
     "prompt_number": 12
    },
    {
     "cell_type": "markdown",
     "metadata": {
      "internals": {
       "frag_helper": "fragment_end",
       "frag_number": 82,
       "slide_helper": "subslide_end",
       "slide_type": "subslide"
      },
      "slide_helper": "slide_end",
      "slideshow": {
       "slide_type": "slide"
      }
     },
     "source": [
      "#Keypoints\n",
      "\n",
      "<div class='center-align'><figure><img src=\"./figs/JumpKeyPoints.png\" width=\"550\" alt=\"Vertical jump\"/><figcaption><i>Some of the keypoints (from Linthorne, 2001).</i></figcaption></figure></div><br> \n"
     ]
    },
    {
     "cell_type": "markdown",
     "metadata": {
      "internals": {
       "frag_helper": "fragment_end",
       "frag_number": 82,
       "slide_helper": "subslide_end",
       "slide_type": "subslide"
      },
      "slide_helper": "slide_end",
      "slideshow": {
       "slide_type": "slide"
      }
     },
     "source": [
      "Keypoints represented by letters a to h.\n",
      "\n",
      "a: Point a is the start of the jump. The jumper is initially\n",
      "standing upright and is stationary. The vertical height of the\n",
      "c.m. at this time has been set to zero.\n",
      "\n",
      "a\u2013b: The jumper relaxes the leg and hip muscles, thus\n",
      "allowing the knees and hips to flex under the effect of gravity. \n",
      "The resultant force on the jumper $F_z - mg$ becomes\n",
      "negative, and so the jumper\u2019s c.m. moves and accelerates\n",
      "downwards.\n",
      "\n",
      "b: Point b marks the maximum downward acceleration of\n",
      "the jumper\u2019s c.m.\n",
      "\n",
      "b\u2013c: The jumper has started to increase the activation of\n",
      "the leg muscles but the jumper\u2019s c.m. is still moving downward.\n",
      "The resultant force on the jumper and the acceleration\n",
      "of the jumper\u2019s c.m. are still negative.\n",
      "\n",
      "c: At point c the ground reaction force is equal to body\n",
      "weight, and so the resultant force on the jumper and the\n",
      "acceleration of the jumper\u2019s c.m. are zero. Point c marks the\n",
      "maximum downward velocity. The region a\u2013c is sometimes\n",
      "called the \u2018\u2018unweighting\u2019\u2019 phase because the ground reaction\n",
      "force is less than body weight.\n",
      "\n",
      "c\u2013d: The resultant force is now positive, and so the jumper\n",
      "is accelerating upwards, but still moving downwards.\n",
      "\n",
      "d: Point d is the lowest point of the countermovement,\n",
      "where the jumper\u2019s c.m. is momentarily at rest \u0351velocity is\n",
      "zero\u0352. The leg muscles are now strongly activated and the\n",
      "ground reaction force is close to maximum. A common error\n",
      "when examining the force\u2013time curve is to identify point b\n",
      "as the lowest point of the countermovement.\n",
      "\n",
      "d\u2013e: This is the \u2018\u2018pushoff\u2019\u2019 phase, where the jumper moves\n",
      "upward by extending the knees and hips. The velocity is now \n",
      "positive \u0351upwards\u0352. For many jumpers, the maximum ground\n",
      "reaction force occurs early in the pushoff phase, shortly after\n",
      "the lowest point of the countermovement.\n",
      "\n",
      "e: The ground reaction force has dropped to become equal\n",
      "to body weight. The resultant force on the jumper and the\n",
      "acceleration of the jumper\u2019s c.m. are therefore zero. Point e\n",
      "marks the maximum upward velocity. The running high\n",
      "jump and long jump also display this phenomenon, where\n",
      "the maximum upward vertical velocity is not at the instant of\n",
      "takeoff, but at a short time before takeoff.\n",
      "\n",
      "e\u2013f: The ground reaction force drops below body weight\n",
      "and so the resultant force on the jumper and the acceleration\n",
      "of the jumper\u2019s c.m. are negative. The jumper\u2019s c.m. is still\n",
      "moving upwards, but it has started to slow due to the effect\n",
      "of gravity.\n",
      "\n",
      "f: Point f is the instant of takeoff, where the ground reaction\n",
      "force first becomes zero. Note that the c.m. is higher at\n",
      "takeoff than at the start of the jump because the jumper has\n",
      "extended the ankle joints. \u0351The jumper is standing on tip-\n",
      "toe.\n",
      "\n",
      "f\u2013g: The only force acting on the jumper is the jumper\u2019s\n",
      "weight and so the jumper is a projectile in free flight. The\n",
      "region f\u2013g marks the ascent of the flight phase, where the\n",
      "jumper\u2019s c.m. is moving upward but slowing down due to the\n",
      "effect of gravity.\n",
      "\n",
      "g: Point g marks the peak of the jump, where the jumper\u2019s\n",
      "c.m. is momentarily at rest.\n",
      "\n",
      "g\u2013h: This is the descent of the flight phase, where the\n",
      "jumper\u2019s c.m. is moving downward \u0351velocity is negative and\n",
      "speed is increasing.\n",
      "\n",
      "h: Point h is the instant of landing, where the feet first\n",
      "contact the ground. The ground reaction force shows a sharp\n",
      "\u2018\u2018impact peak\u2019\u2019 and eventually becomes equal to body weight\n",
      "when the jumper is again standing motionless on the force\n",
      "platform \u0351not shown."
     ]
    },
    {
     "cell_type": "markdown",
     "metadata": {
      "internals": {
       "frag_helper": "fragment_end",
       "frag_number": 82,
       "slide_helper": "subslide_end",
       "slide_type": "subslide"
      },
      "slide_helper": "slide_end",
      "slideshow": {
       "slide_type": "slide"
      }
     },
     "source": [
      "\n",
      "<div class='center-align'><figure><img src=\"./figs/JumpPlots.png\" width=\"900\" alt=\"Vertical jump\"/><figcaption><i>Curves for a countermovement jump (from Linthorne, 2001).</i></figcaption></figure></div><br> "
     ]
    },
    {
     "cell_type": "markdown",
     "metadata": {
      "internals": {
       "frag_helper": "fragment_end",
       "frag_number": 82,
       "slide_type": "subslide"
      },
      "slideshow": {
       "slide_type": "slide"
      }
     },
     "source": [
      "#Activity\n",
      "\n",
      "The plataform force data is avaliable [here](https://github.com/ojon/JumpClass/). \n",
      "\n",
      "The sample rate is 250Hz\n",
      "\n",
      "###For each trial:\n",
      "\n",
      "From the z component of the ground reaction force obtain the acelaration, speed \n",
      "and displacement of the CM.\n",
      "\n",
      "Plot Fz x t\n",
      "\n",
      "Plot Velocity x t\n",
      "\n",
      "Plot Acelaration x t\n",
      "\n",
      "Plot Height x t\n",
      "\n",
      "Plot Fz x Height\n",
      "\n",
      "Indentify the key times(a, b, ...), mark them in the plots and do table with the corresponding instants. Calculate how long last each phase(a-b, b-c, ...) of the jump.\n",
      "\n",
      "Calculate the take off velocity and height of the flight using the three methods presented.\n",
      "\n",
      "###Questions:\n",
      "\n",
      "1) Comment about the precision of the three methods used to calculate the height of jump, based on data from a plataform force.\n",
      "\n",
      "2) Based on the simple model of 2 rods for the jump action. Choose a member of your group, assume that $L$ is half the length of the lower limb of that member. Assume also that the take off occurs at $\\theta = 60^o$ and that at that instant $\\frac{d^2 \\theta} {d^2 t} = 0$ The rate of rotation $ \\frac{d \\theta}{d t}$ of the shank of your colleague must be greater than what value, so he jump?\n",
      "\n",
      "3) The data avaliable are all from counter movement jumps CMJ, a natural kind of jump, where the jumper starts from an upright standing position,\n",
      "makes a preliminary downward movement by flexing at the\n",
      "knees and hips, then immediately and vigorously extends the\n",
      "knees and hips again to jump vertically up off the ground.\n",
      "\n",
      "There is another kind of jump referred as squat jump SJ, where the jumper starts from a stationary semisquatted position then vigorously extends the knees and hips to jump vertically up off the ground. The jumper does not employ a preliminary downward phase like in the CMJ.\n",
      "\n",
      "Below we have two curves($F_z$ x $H$) from each of the jumps technique performed by the same person:\n",
      "\n",
      "   <div class='center-align'><figure><img src=\"./figs/JumpCMJ_Squad.png\" width=\"900\" alt=\"Vertical jump\"/><figcaption><i>.</i></figcaption></figure></div><br> \n",
      "\n",
      "What the shade area represents?\n",
      "\n",
      "Based on the graph above, what kind of jump will have a higher height? Why?\n",
      "\n",
      "\n",
      "###obs: \n",
      "\n",
      "adjust the time axis in order to have t=0 at the take off instant.\n",
      "\n",
      "Show explicit the criteria used to find the key points and the formulas used to do your calculations.\n",
      "\n",
      "Deliver also your code or spreadsheet, documented(a minimal amount is ok)\n",
      "\n",
      "Any extra and relevant comment is welcome.\n"
     ]
    },
    {
     "cell_type": "code",
     "collapsed": false,
     "input": [],
     "language": "python",
     "metadata": {
      "internals": {
       "frag_helper": "fragment_end",
       "frag_number": 82,
       "slide_helper": "subslide_end"
      },
      "slide_helper": "slide_end",
      "slideshow": {
       "slide_type": "-"
      }
     },
     "outputs": []
    }
   ],
   "metadata": {}
  }
 ]
}